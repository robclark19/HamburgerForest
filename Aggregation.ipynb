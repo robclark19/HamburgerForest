{
 "cells": [
  {
   "cell_type": "markdown",
   "metadata": {},
   "source": [
    "# Import libraries, crosswalks, and datasets"
   ]
  },
  {
   "cell_type": "code",
   "execution_count": null,
   "metadata": {},
   "outputs": [],
   "source": [
    "import pandas as pd\n",
    "import numpy as np\n",
    "\n",
    "sourcedf = pd.read_excel('./Data/Originals/full branch data 2021.xlsx', sheet_name='full insect-branch data')\n",
    "\n",
    "# Drop rows with null 'branch_code' to omit the table at the bottom of the data\n",
    "sourcedf.dropna(subset=['branch_code'], inplace=True)"
   ]
  },
  {
   "cell_type": "markdown",
   "metadata": {},
   "source": [
    "# **Static Columns**\n",
    "- *branch_code* \n",
    "- *time_block*\n",
    "- *tree*\n",
    "- *treatment*"
   ]
  },
  {
   "cell_type": "code",
   "execution_count": null,
   "metadata": {},
   "outputs": [],
   "source": [
    "df = sourcedf.copy()\n",
    "df = df[['branch_code', 'time_block', 'tree', 'treatment']] "
   ]
  },
  {
   "cell_type": "markdown",
   "metadata": {},
   "source": [
    "# **Aggregation Columns**\n"
   ]
  },
  {
   "cell_type": "code",
   "execution_count": null,
   "metadata": {},
   "outputs": [],
   "source": [
    "results = []\n",
    "\n",
    "for treeyear in df.itertuples():\n",
    "    arachnids = sourcedf.query(\"branch_code == @treeyear.branch_code and time_block == @treeyear.time_block\")[['opiliones', 'araneae']].sum(skipna=True).sum(skipna=True)\n",
    "    lepidoptera = sourcedf.query(\"branch_code == @treeyear.branch_code and time_block == @treeyear.time_block\")[['lepidoptera (all)']].sum(skipna=True).sum(skipna=True)\n",
    "    diptera = sourcedf.query(\"branch_code == @treeyear.branch_code and time_block == @treeyear.time_block\")[['diptera (all)']].sum(skipna=True).sum(skipna=True)\n",
    "    coleoptera = sourcedf.query(\"branch_code == @treeyear.branch_code and time_block == @treeyear.time_block\")[['coleoptera']].sum(skipna=True).sum(skipna=True)\n",
    "    hymenoptera = sourcedf.query(\"branch_code == @treeyear.branch_code and time_block == @treeyear.time_block\")[['hymenoptera']].sum(skipna=True).sum(skipna=True)\n",
    "    hemiptera = sourcedf.query(\"branch_code == @treeyear.branch_code and time_block == @treeyear.time_block\")[['hemiptera']].sum(skipna=True).sum(skipna=True)\n",
    "    aquatics = sourcedf.query(\"branch_code == @treeyear.branch_code and time_block == @treeyear.time_block\")[['trichoptera', 'plecoptera', 'plecoptera.1']].sum(skipna=True).sum(skipna=True)\n",
    "    gastropods = sourcedf.query(\"branch_code == @treeyear.branch_code and time_block == @treeyear.time_block\")[['gastropoda']].sum(skipna=True).sum(skipna=True)\n",
    "    orthopterids = sourcedf.query(\"branch_code == @treeyear.branch_code and time_block == @treeyear.time_block\")[['orthoptera', 'phasmida']].sum(skipna=True).sum(skipna=True)\n",
    "\n",
    "    results.append([treeyear.branch_code, treeyear.time_block, arachnids, lepidoptera, diptera, coleoptera, hymenoptera, hemiptera, aquatics, gastropods, orthopterids])\n",
    "\n",
    "dfresults = pd.DataFrame(results, columns=[\n",
    "                         'branch_code', 'time_block', 'arachnids', 'lepidoptera', 'diptera', 'coleoptera', 'hymenoptera', 'hemiptera', 'aquatics', 'gastropods', 'orthopterids'])\n",
    "\n",
    "df = pd.merge(df, dfresults, how='left', left_on=[\n",
    "              'branch_code', 'time_block'], right_on=['branch_code', 'time_block'])\n"
   ]
  },
  {
   "cell_type": "markdown",
   "metadata": {},
   "source": [
    "## Downcast all numerical columns from float to int to drop the decimal places"
   ]
  },
  {
   "cell_type": "code",
   "execution_count": null,
   "metadata": {},
   "outputs": [],
   "source": [
    "df['time_block'] = df['time_block'].astype(int)\n",
    "df['arachnids'] = df['arachnids'].astype(int)\n",
    "df['lepidoptera'] = df['lepidoptera'].astype(int)\n",
    "df['diptera'] = df['diptera'].astype(int)\n",
    "df['coleoptera'] = df['coleoptera'].astype(int)\n",
    "df['hymenoptera'] = df['hymenoptera'].astype(int)\n",
    "df['hemiptera'] = df['hemiptera'].astype(int)\n",
    "df['aquatics'] = df['aquatics'].astype(int)\n",
    "df['gastropods'] = df['gastropods'].astype(int)\n",
    "df['orthopterids'] = df['orthopterids'].astype(int)"
   ]
  },
  {
   "cell_type": "markdown",
   "metadata": {},
   "source": [
    "## Column sort and export"
   ]
  },
  {
   "cell_type": "code",
   "execution_count": null,
   "metadata": {},
   "outputs": [],
   "source": [
    "columnorder = ['branch_code', 'time_block', 'tree', 'treatment', 'arachnids', 'lepidoptera', 'diptera', 'coleoptera', 'hymenoptera', 'hemiptera', 'aquatics', 'gastropods', 'orthopterids']\n",
    "\n",
    "df[columnorder].to_csv('./Data/Output/trophicnmds1.csv', index=False)"
   ]
  }
 ],
 "metadata": {
  "interpreter": {
   "hash": "26bb97ec27d64e8c1bb18b70d6b6d094818a1cf18e4650be227046f9ca0d4b10"
  },
  "kernelspec": {
   "display_name": "Python 3.8.11 64-bit ('Env1': conda)",
   "name": "python3"
  },
  "language_info": {
   "codemirror_mode": {
    "name": "ipython",
    "version": 3
   },
   "file_extension": ".py",
   "mimetype": "text/x-python",
   "name": "python",
   "nbconvert_exporter": "python",
   "pygments_lexer": "ipython3",
   "version": "3.8.11"
  },
  "orig_nbformat": 4
 },
 "nbformat": 4,
 "nbformat_minor": 2
}
